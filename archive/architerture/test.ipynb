{
 "cells": [
  {
   "cell_type": "code",
   "execution_count": 5,
   "id": "bdf882e8-8554-4daf-b263-2b432cc00166",
   "metadata": {
    "tags": []
   },
   "outputs": [
    {
     "name": "stdout",
     "output_type": "stream",
     "text": [
      "18.45167112350464\n"
     ]
    }
   ],
   "source": [
    "import torch\n",
    "import time\n",
    "p = time.time()\n",
    "device = torch.device('cuda')\n",
    "with open('n1.txt') as f:\n",
    "    A = [[float(x) for x in line.split()] for line in f]\n",
    "A = torch.tensor(A, device=device, dtype=torch.float64)\n",
    "\n",
    "with open('n2.txt') as f:  \n",
    "    B = [[float(x) for x in line.split()] for line in f]\n",
    "B = torch.tensor(B, device=device, dtype=torch.float64)  \n",
    "q = time.time()\n",
    "print(q - p)"
   ]
  },
  {
   "cell_type": "code",
   "execution_count": 2,
   "id": "d0142c94-e112-4f3c-bf72-ca767469b970",
   "metadata": {
    "tags": []
   },
   "outputs": [
    {
     "name": "stdout",
     "output_type": "stream",
     "text": [
      "torch.Size([8192, 8192])\n",
      "torch.Size([8192, 8192])\n",
      "0.5126628875732422\n"
     ]
    }
   ],
   "source": [
    "print(B.shape)\n",
    "print(A.shape)\n",
    "\n",
    "\n",
    "p = time.time()\n",
    "C = torch.matmul(A, B)\n",
    "q = time.time()\n",
    "print(q - p)"
   ]
  },
  {
   "cell_type": "code",
   "execution_count": 6,
   "id": "decef1e7-56b8-4d7d-9a47-baea1bbace48",
   "metadata": {
    "tags": []
   },
   "outputs": [
    {
     "data": {
      "text/plain": [
       "tensor(33188799., device='cuda:0', dtype=torch.float64)"
      ]
     },
     "execution_count": 6,
     "metadata": {},
     "output_type": "execute_result"
    }
   ],
   "source": [
    "C[0][0]"
   ]
  },
  {
   "cell_type": "code",
   "execution_count": 7,
   "id": "89034390-e002-4abd-a4ce-88c7bce1ff42",
   "metadata": {
    "tags": []
   },
   "outputs": [
    {
     "data": {
      "text/plain": [
       "tensor(33822863., device='cuda:0', dtype=torch.float64)"
      ]
     },
     "execution_count": 7,
     "metadata": {},
     "output_type": "execute_result"
    }
   ],
   "source": [
    "C[512][512]"
   ]
  },
  {
   "cell_type": "code",
   "execution_count": 9,
   "id": "f9ba9a81-728b-4989-b097-760e10c5eb5d",
   "metadata": {},
   "outputs": [
    {
     "data": {
      "text/plain": [
       "'2.0.1+cu117'"
      ]
     },
     "execution_count": 9,
     "metadata": {},
     "output_type": "execute_result"
    }
   ],
   "source": [
    "torch.__version__"
   ]
  },
  {
   "cell_type": "code",
   "execution_count": null,
   "id": "d9e7dce0-6fe0-402e-9447-9b7753f91348",
   "metadata": {},
   "outputs": [],
   "source": []
  }
 ],
 "metadata": {
  "kernelspec": {
   "display_name": "Python 3 (ipykernel)",
   "language": "python",
   "name": "python3"
  },
  "language_info": {
   "codemirror_mode": {
    "name": "ipython",
    "version": 3
   },
   "file_extension": ".py",
   "mimetype": "text/x-python",
   "name": "python",
   "nbconvert_exporter": "python",
   "pygments_lexer": "ipython3",
   "version": "3.11.4"
  }
 },
 "nbformat": 4,
 "nbformat_minor": 5
}
